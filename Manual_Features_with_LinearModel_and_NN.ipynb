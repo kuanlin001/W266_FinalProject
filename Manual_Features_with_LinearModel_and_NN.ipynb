{
 "cells": [
  {
   "cell_type": "markdown",
   "metadata": {},
   "source": [
    "Data:\n",
    "Amazon books review from http://jmcauley.ucsd.edu/data/amazon/"
   ]
  },
  {
   "cell_type": "code",
   "execution_count": 1,
   "metadata": {
    "collapsed": true
   },
   "outputs": [],
   "source": [
    "data = 'reviews_Books_5.json.gz'"
   ]
  },
  {
   "cell_type": "code",
   "execution_count": 2,
   "metadata": {
    "collapsed": false
   },
   "outputs": [],
   "source": [
    "import matplotlib\n",
    "import matplotlib.pyplot as plt\n",
    "matplotlib.style.use('ggplot')\n",
    "%matplotlib inline\n",
    "import numpy as np\n",
    "from sklearn.linear_model import LogisticRegression\n",
    "import sklearn.metrics as metrics\n",
    "import nltk\n",
    "from nltk.tokenize import word_tokenize, sent_tokenize\n",
    "import string\n",
    "import pandas"
   ]
  },
  {
   "cell_type": "code",
   "execution_count": 3,
   "metadata": {
    "collapsed": true
   },
   "outputs": [],
   "source": [
    "import gzip\n",
    "def parse(path, topN=None):\n",
    "    with gzip.open(path, 'r') as g:\n",
    "        lc = 0\n",
    "        for l in g:\n",
    "            lc += 1\n",
    "            yield eval(l)\n",
    "            if topN != None and lc == topN: break"
   ]
  },
  {
   "cell_type": "code",
   "execution_count": 4,
   "metadata": {
    "collapsed": false
   },
   "outputs": [
    {
     "name": "stdout",
     "output_type": "stream",
     "text": [
      "{'reviewerID': 'A10000012B7CGYKOMPQ4L', 'asin': '000100039X', 'reviewerName': 'Adam', 'helpful': [0, 0], 'unixReviewTime': 1355616000, 'reviewText': 'Spiritually and mentally inspiring! A book that allows you to question your morals and will help you discover who you really are!', 'overall': 5.0, 'reviewTime': '12 16, 2012', 'summary': 'Wonderful!'}\n",
      "{'reviewerID': 'A2S166WSCFIFP5', 'asin': '000100039X', 'reviewerName': 'adead_poet@hotmail.com \"adead_poet@hotmail.com\"', 'helpful': [0, 2], 'unixReviewTime': 1071100800, 'reviewText': \"This is one my must have books. It is a masterpiece of spirituality. I'll be the first to admit, its literary quality isn't much. It is rather simplistically written, but the message behind it is so powerful that you have to read it. It will take you to enlightenment.\", 'overall': 5.0, 'reviewTime': '12 11, 2003', 'summary': 'close to god'}\n",
      "{'reviewerID': 'A1BM81XB4QHOA3', 'asin': '000100039X', 'reviewerName': 'Ahoro Blethends \"Seriously\"', 'helpful': [0, 0], 'unixReviewTime': 1390003200, 'reviewText': 'This book provides a reflection that you can apply to your own life.And, a way for you to try and assess whether you are truly doing the right thing and making the most of your short time on this plane.', 'overall': 5.0, 'reviewTime': '01 18, 2014', 'summary': 'Must Read for Life Afficianados'}\n"
     ]
    }
   ],
   "source": [
    "# top 3 items\n",
    "for i in parse(data, 3): print(i)"
   ]
  },
  {
   "cell_type": "code",
   "execution_count": 5,
   "metadata": {
    "collapsed": true
   },
   "outputs": [],
   "source": [
    "# limit to only reviews with more than 10 feedbacks\n",
    "def extractWithFeedback(data, n, minTotalFeedbacks=10):\n",
    "    reviews_w_fb = []\n",
    "    for i in parse(data):\n",
    "        if len(i['reviewText']) < 10:\n",
    "            continue\n",
    "        if i['helpful'][1] > minTotalFeedbacks:\n",
    "            reviews_w_fb.append(i)\n",
    "        if len(reviews_w_fb) == n:\n",
    "            break\n",
    "    return reviews_w_fb"
   ]
  },
  {
   "cell_type": "code",
   "execution_count": 6,
   "metadata": {
    "collapsed": true
   },
   "outputs": [],
   "source": [
    "# take the frist 10,000 reviews, split 0.6/0.2/0.2 for train/dev/test\n",
    "def getData(data, totalSample, useCache=True, minTotalFeedbacks=10, split=[0.6,0.2,0.2]):\n",
    "    import pickle\n",
    "    import os\n",
    "    if useCache and os.path.isfile(\"train_data.p\") and os.path.isfile(\"dev_data.p\") and os.path.isfile(\"test_data.p\"):\n",
    "        print(\"using cached data\")\n",
    "        with open(\"train_data.p\", \"rb\") as f:\n",
    "            train_data = pickle.load(f)\n",
    "        with open(\"dev_data.p\", \"rb\") as f:\n",
    "            dev_data = pickle.load(f)\n",
    "        with open(\"test_data.p\", \"rb\") as f:\n",
    "            test_data = pickle.load(f)\n",
    "        return train_data, dev_data, test_data\n",
    "            \n",
    "    # probably not needed, but shuffle the data just to be safe\n",
    "    samples = np.random.permutation(extractWithFeedback(data, totalSample, minTotalFeedbacks))\n",
    "    split_idx1 = int(split[0]*len(samples))\n",
    "    split_idx2 = split_idx1+int(split[1]*len(samples))\n",
    "    train_data = samples[:split_idx1]\n",
    "    dev_data = samples[split_idx1:split_idx2]\n",
    "    test_data = samples[split_idx2:]\n",
    "    \n",
    "    with open(\"train_data.p\", \"wb\") as f:\n",
    "        pickle.dump(train_data, f)\n",
    "    with open(\"dev_data.p\", \"wb\") as f:\n",
    "        pickle.dump(dev_data, f)\n",
    "    with open(\"test_data.p\", \"wb\") as f:\n",
    "        pickle.dump(test_data, f)\n",
    "    \n",
    "    return train_data, dev_data, test_data"
   ]
  },
  {
   "cell_type": "code",
   "execution_count": 19,
   "metadata": {
    "collapsed": false
   },
   "outputs": [],
   "source": [
    "total_sample = 10000\n",
    "#train_data, dev_data, test_data = getData(data, total_sample, useCache=True)\n",
    "train_targets_prob = [d[\"helpful\"][0]*1.0/d[\"helpful\"][1] for d in train_data]\n",
    "dev_targets_prob = [d[\"helpful\"][0]*1.0/d[\"helpful\"][1] for d in dev_data]\n",
    "test_targets_prob = [d[\"helpful\"][0]*1.0/d[\"helpful\"][1] for d in test_data]"
   ]
  },
  {
   "cell_type": "code",
   "execution_count": 8,
   "metadata": {
    "collapsed": false
   },
   "outputs": [
    {
     "data": {
      "text/plain": [
       "['After reading The Farseer Trilogy which was very promising, I decided to take another chance with the author and try The Ship of Magic series.',\n",
       " 'This first book is very silly.',\n",
       " \"The concept of a liveship which speaks to it's  occupants was intriguing but it loses it's appeal as the characters were  very annoying, and the magic was very unsophisticated.\",\n",
       " 'I tried very hard to  find some good in this novel but it falls short of anything spectacular.',\n",
       " 'Only for the extreemely imaginative and open minded.',\n",
       " 'If you have your feet  planted firmly on the ground, this fantasy novel is not for you.',\n",
       " 'Goodkind  fans will find this novel a hard read.',\n",
       " 'The Farseer trilogy is far better.']"
      ]
     },
     "execution_count": 8,
     "metadata": {},
     "output_type": "execute_result"
    }
   ],
   "source": [
    "#nltk.tokenize.word_tokenize(train_data[0]['reviewText'])\n",
    "nltk.tokenize.sent_tokenize(train_data[0]['reviewText'])"
   ]
  },
  {
   "cell_type": "code",
   "execution_count": 9,
   "metadata": {
    "collapsed": false
   },
   "outputs": [
    {
     "data": {
      "image/png": "[encoded data removed]",
      "text/plain": [
       "<matplotlib.figure.Figure at 0x7fe885c3ded0>"
      ]
     },
     "metadata": {},
     "output_type": "display_data"
    }
   ],
   "source": [
    "def visualizeLabels():\n",
    "    plt.hist(train_targets_prob+dev_targets_prob+test_targets_prob)\n",
    "    plt.title(\"data label distribution\")\n",
    "    plt.xlabel(\"data label (helpfulness ratio)\")\n",
    "    plt.ylabel(\"freq\")\n",
    "visualizeLabels()"
   ]
  },
  {
   "cell_type": "code",
   "execution_count": 20,
   "metadata": {
    "collapsed": true
   },
   "outputs": [],
   "source": [
    "train_targets = [1 if p>0.8 else 0 for p in train_targets_prob]\n",
    "dev_targets = [1 if p>0.8 else 0 for p in dev_targets_prob]\n",
    "test_targets = [1 if p>0.8 else 0 for p in test_targets_prob]"
   ]
  },
  {
   "cell_type": "code",
   "execution_count": 21,
   "metadata": {
    "collapsed": true
   },
   "outputs": [],
   "source": [
    "import sklearn.metrics as metrics\n",
    "def score_batch(pred_probs, targets):\n",
    "    pred = [1 if p>0.5 else 0 for p in pred_probs]\n",
    "    accuracy = metrics.accuracy_score(targets, pred)\n",
    "    precision = metrics.precision_score(targets, pred)\n",
    "    recall = metrics.recall_score(targets, pred)\n",
    "    f1 = metrics.f1_score(targets, pred)\n",
    "    return {\"accuracy\": accuracy, \"precision\": precision, \"recall\": recall, \"f1\": f1}"
   ]
  },
  {
   "cell_type": "code",
   "execution_count": 22,
   "metadata": {
    "collapsed": false
   },
   "outputs": [
    {
     "data": {
      "text/plain": [
       "4814"
      ]
     },
     "execution_count": 22,
     "metadata": {},
     "output_type": "execute_result"
    }
   ],
   "source": [
    "sum(train_targets)+sum(dev_targets)+sum(test_targets)"
   ]
  },
  {
   "cell_type": "code",
   "execution_count": 47,
   "metadata": {
    "collapsed": false
   },
   "outputs": [
    {
     "name": "stdout",
     "output_type": "stream",
     "text": [
      "baseline train score, all positive class\n",
      "train:\n",
      "{'f1': 0.65891819400983453, 'recall': 1.0, 'precision': 0.49133333333333334, 'accuracy': 0.49133333333333334}\n",
      "dev:\n",
      "{'f1': 0.63341305090536393, 'recall': 1.0, 'precision': 0.46350000000000002, 'accuracy': 0.46350000000000002}\n",
      "test:\n",
      "{'f1': 0.63899285471248723, 'recall': 1.0, 'precision': 0.46949999999999997, 'accuracy': 0.46949999999999997}\n",
      "baseline train score, all negative class\n",
      "train:\n",
      "{'f1': 0.0, 'recall': 0.0, 'precision': 0.0, 'accuracy': 0.50866666666666671}\n",
      "dev:\n",
      "{'f1': 0.0, 'recall': 0.0, 'precision': 0.0, 'accuracy': 0.53649999999999998}\n",
      "test:\n",
      "{'f1': 0.0, 'recall': 0.0, 'precision': 0.0, 'accuracy': 0.53049999999999997}\n"
     ]
    }
   ],
   "source": [
    "# baseline score - all positive\n",
    "print(\"baseline train score, all positive class\")\n",
    "print(\"train:\")\n",
    "print(score_batch([1]*len(train_targets), train_targets))\n",
    "print(\"dev:\")\n",
    "print(score_batch([1]*len(dev_targets), dev_targets))\n",
    "print(\"test:\")\n",
    "print(score_batch([1]*len(test_targets), test_targets))\n",
    "\n",
    "print(\"baseline train score, all negative class\")\n",
    "print(\"train:\")\n",
    "print(score_batch([0]*len(train_targets), train_targets))\n",
    "print(\"dev:\")\n",
    "print(score_batch([0]*len(dev_targets), dev_targets))\n",
    "print(\"test:\")\n",
    "print(score_batch([0]*len(test_targets), test_targets))"
   ]
  },
  {
   "cell_type": "code",
   "execution_count": 12,
   "metadata": {
    "collapsed": true
   },
   "outputs": [],
   "source": [
    "# tokenize the datasets\n",
    "def tokenizeAll():\n",
    "    for dataset in (train_data, dev_data, test_data):\n",
    "        for data in dataset:\n",
    "            data['reviewWordTokens'] = word_tokenize(data['reviewText'])\n",
    "            data['reviewSentences'] = sent_tokenize(data['reviewText'])\n",
    "tokenizeAll()"
   ]
  },
  {
   "cell_type": "code",
   "execution_count": 13,
   "metadata": {
    "collapsed": true
   },
   "outputs": [],
   "source": [
    "# apply part of speech tags\n",
    "def tagPOSAll():\n",
    "    for dataset in (train_data, dev_data, test_data):\n",
    "        for data in dataset:\n",
    "            data['reviewTextPOS'] = nltk.pos_tag(data['reviewWordTokens'])\n",
    "tagPOSAll()"
   ]
  },
  {
   "cell_type": "code",
   "execution_count": 17,
   "metadata": {
    "collapsed": true
   },
   "outputs": [],
   "source": [
    "# save works\n",
    "import pickle\n",
    "with open('train_data_pos.p', 'wb') as f:\n",
    "    pickle.dump(train_data, f)\n",
    "with open('test_data_pos.p', 'wb') as f:\n",
    "    pickle.dump(test_data, f)\n",
    "with open('dev_data_pos.p', 'wb') as f:\n",
    "    pickle.dump(dev_data, f)"
   ]
  },
  {
   "cell_type": "code",
   "execution_count": 1,
   "metadata": {
    "collapsed": true
   },
   "outputs": [],
   "source": [
    "# load data\n",
    "import pickle\n",
    "with open('train_data_pos.p', 'rb') as f:\n",
    "    train_data = pickle.load(f)\n",
    "with open('test_data_pos.p', 'rb') as f:\n",
    "    test_data = pickle.load(f)\n",
    "with open('dev_data_pos.p', 'rb') as f:\n",
    "    dev_data = pickle.load(f)"
   ]
  },
  {
   "cell_type": "code",
   "execution_count": 14,
   "metadata": {
    "collapsed": false
   },
   "outputs": [],
   "source": [
    "import collections\n",
    "pos_tag_dist = collections.Counter((pos[1] for pos in d['reviewTextPOS'] for d in train_data))"
   ]
  },
  {
   "cell_type": "code",
   "execution_count": 15,
   "metadata": {
    "collapsed": false
   },
   "outputs": [
    {
     "data": {
      "text/html": [
       "<div>\n",
       "<table border=\"1\" class=\"dataframe\">\n",
       "  <thead>\n",
       "    <tr style=\"text-align: right;\">\n",
       "      <th></th>\n",
       "      <th>''</th>\n",
       "      <th>(</th>\n",
       "      <th>)</th>\n",
       "      <th>,</th>\n",
       "      <th>.</th>\n",
       "      <th>:</th>\n",
       "      <th>CC</th>\n",
       "      <th>CD</th>\n",
       "      <th>DT</th>\n",
       "      <th>EX</th>\n",
       "      <th>...</th>\n",
       "      <th>RP</th>\n",
       "      <th>TO</th>\n",
       "      <th>VB</th>\n",
       "      <th>VBD</th>\n",
       "      <th>VBG</th>\n",
       "      <th>VBN</th>\n",
       "      <th>VBP</th>\n",
       "      <th>VBZ</th>\n",
       "      <th>WRB</th>\n",
       "      <th>``</th>\n",
       "    </tr>\n",
       "  </thead>\n",
       "  <tbody>\n",
       "    <tr>\n",
       "      <th>0</th>\n",
       "      <td>18000</td>\n",
       "      <td>6000</td>\n",
       "      <td>6000</td>\n",
       "      <td>120000</td>\n",
       "      <td>168000</td>\n",
       "      <td>18000</td>\n",
       "      <td>108000</td>\n",
       "      <td>78000</td>\n",
       "      <td>324000</td>\n",
       "      <td>6000</td>\n",
       "      <td>...</td>\n",
       "      <td>12000</td>\n",
       "      <td>60000</td>\n",
       "      <td>108000</td>\n",
       "      <td>144000</td>\n",
       "      <td>96000</td>\n",
       "      <td>60000</td>\n",
       "      <td>108000</td>\n",
       "      <td>78000</td>\n",
       "      <td>24000</td>\n",
       "      <td>18000</td>\n",
       "    </tr>\n",
       "  </tbody>\n",
       "</table>\n",
       "<p>1 rows × 34 columns</p>\n",
       "</div>"
      ],
      "text/plain": [
       "      ''     (     )       ,       .      :      CC     CD      DT    EX  \\\n",
       "0  18000  6000  6000  120000  168000  18000  108000  78000  324000  6000   \n",
       "\n",
       "   ...       RP     TO      VB     VBD    VBG    VBN     VBP    VBZ    WRB  \\\n",
       "0  ...    12000  60000  108000  144000  96000  60000  108000  78000  24000   \n",
       "\n",
       "      ``  \n",
       "0  18000  \n",
       "\n",
       "[1 rows x 34 columns]"
      ]
     },
     "execution_count": 15,
     "metadata": {},
     "output_type": "execute_result"
    },
    {
     "data": {
      "image/png": "[encoded data removed]",
      "text/plain": [
       "<matplotlib.figure.Figure at 0x7fe882300150>"
      ]
     },
     "metadata": {},
     "output_type": "display_data"
    }
   ],
   "source": [
    "def visualizePOS():\n",
    "    pos_result = {}\n",
    "    orig_result = dict(pos_tag_dist)\n",
    "    for pos in orig_result:\n",
    "        pos_result[pos] = [orig_result[pos]]\n",
    "    df = pandas.DataFrame(pos_result)\n",
    "    df.plot.bar()\n",
    "    return df\n",
    "visualizePOS()"
   ]
  },
  {
   "cell_type": "code",
   "execution_count": 16,
   "metadata": {
    "collapsed": false
   },
   "outputs": [
    {
     "data": {
      "text/plain": [
       "[\"''\",\n",
       " '(',\n",
       " ')',\n",
       " ',',\n",
       " '.',\n",
       " ':',\n",
       " 'CC',\n",
       " 'CD',\n",
       " 'DT',\n",
       " 'EX',\n",
       " 'IN',\n",
       " 'JJ',\n",
       " 'JJR',\n",
       " 'JJS',\n",
       " 'MD',\n",
       " 'NN',\n",
       " 'NNP',\n",
       " 'NNS',\n",
       " 'POS',\n",
       " 'PRP',\n",
       " 'PRP$',\n",
       " 'RB',\n",
       " 'RBR',\n",
       " 'RBS',\n",
       " 'RP',\n",
       " 'TO',\n",
       " 'VB',\n",
       " 'VBD',\n",
       " 'VBG',\n",
       " 'VBN',\n",
       " 'VBP',\n",
       " 'VBZ',\n",
       " 'WRB',\n",
       " '``']"
      ]
     },
     "execution_count": 16,
     "metadata": {},
     "output_type": "execute_result"
    }
   ],
   "source": [
    "sorted(list(pos_tag_dist))"
   ]
  },
  {
   "cell_type": "code",
   "execution_count": 6,
   "metadata": {
    "collapsed": false
   },
   "outputs": [],
   "source": [
    "# class to hold feature functions and mean/stdev for standarization\n",
    "class lm_model:\n",
    "    def __init__(self):\n",
    "        self.funcs = {}\n",
    "        self.means = {}\n",
    "        self.stdevs = {}\n",
    "        self.model = None\n",
    "    def registerFeature(self, func_name, func_body):\n",
    "        self.funcs[func_name] = func_body\n",
    "    def deregisterFeature(self, func_name):\n",
    "        del self.funcs[func_name]\n",
    "    def listFunctions(self):\n",
    "        for name in self.funcs:\n",
    "            yield name\n",
    "    def getFeatureVal(self, data_point, func_name, args=None, standardize=False):\n",
    "        if args == None:\n",
    "            val = self.funcs[func_name](data_point)\n",
    "        else:\n",
    "            val = self.funcs[func_name](data_point, *args)\n",
    "        if standardize:\n",
    "            val = (val-self.means[func_name])*1.0/self.stdevs[func_name]\n",
    "        return val\n",
    "    def trainFeatures(self, data_list, arg_dict=None, fromScratch=False):\n",
    "        train_count = 0\n",
    "        for name in self.funcs:\n",
    "            if fromScratch or name not in self.means:\n",
    "                results = []\n",
    "                for data_point in data_list:\n",
    "                    arg_list = None\n",
    "                    if arg_dict != None and name in arg_dict:\n",
    "                        arg_list = arg_dict[name]\n",
    "                    results.append(self.getFeatureVal(data_point, name, arg_list))\n",
    "                self.means[name] = sum(results)*1.0/len(results)\n",
    "                self.stdevs[name] = np.std(results)\n",
    "                train_count += 1\n",
    "        print(\"total %s functions trained\"%train_count)\n",
    "    def makeData(self, data_list, arg_dict=None, standardize=False, feature_filter=None):\n",
    "        results = []\n",
    "        for data_point in data_list:\n",
    "            data_row = []\n",
    "            for name in self.funcs:\n",
    "                if feature_filter != None and name not in feature_filter:\n",
    "                    continue\n",
    "                arg_list = None\n",
    "                if arg_dict != None and name in arg_dict:\n",
    "                    arg_list = arg_dict[name]\n",
    "                data_row.append(self.getFeatureVal(data_point, name, arg_list, standardize))\n",
    "            results.append(data_row)\n",
    "        return results\n",
    "    \n",
    "    def coef(self, feature_filters=None):\n",
    "        if feature_filters != None:\n",
    "            feature_list = [f for f in feature_filters]\n",
    "        else:\n",
    "            feature_list = [name for name in self.funcs]\n",
    "        return zip(feature_list, self.model.coef_[0])\n",
    "    \n",
    "    def trainModel(self, train_data_list, targets, reg=\"l1\"):\n",
    "        self.model = LogisticRegression(penalty=reg)\n",
    "        self.model.fit(train_data_list, targets)\n",
    "        \n",
    "    def score(self, score_data_list, targets):\n",
    "        pred = self.model.predict(score_data_list)\n",
    "        accuracy = metrics.accuracy_score(targets, pred)\n",
    "        precision = metrics.precision_score(targets, pred)\n",
    "        recall = metrics.recall_score(targets, pred)\n",
    "        f1 = metrics.f1_score(targets, pred)\n",
    "        return {\"accuracy\": accuracy, \"precision\": precision, \"recall\": recall, \"f1\": f1}"
   ]
  },
  {
   "cell_type": "code",
   "execution_count": 13,
   "metadata": {
    "collapsed": true
   },
   "outputs": [],
   "source": [
    "model = lm_model()"
   ]
  },
  {
   "cell_type": "code",
   "execution_count": 14,
   "metadata": {
    "collapsed": false
   },
   "outputs": [],
   "source": [
    "# feature functions\n",
    "def typeToTokenRatio(data):\n",
    "    tokens = data['reviewWordTokens']\n",
    "    types = set([t.lower() for t in tokens])\n",
    "    return len(types)*1.0/len(tokens)\n",
    "\n",
    "def meanWordLength(data):\n",
    "    wordlengths = [len(t) for t in data['reviewWordTokens'] if t not in string.punctuation]\n",
    "    return sum(wordlengths)*1.0/len(wordlengths)\n",
    "\n",
    "def punctuationRatio(data):\n",
    "    puncs = 0.0\n",
    "    for t in data['reviewWordTokens']:\n",
    "        if t in string.punctuation:\n",
    "            puncs += 1\n",
    "    return puncs/len(data['reviewWordTokens'])\n",
    "\n",
    "def posRatio(data, target_pos):\n",
    "    counts = 0.0\n",
    "    for pos in data['reviewTextPOS']:\n",
    "        if target_pos == pos[1]:\n",
    "            counts += 1\n",
    "    return counts/len(data['reviewTextPOS'])"
   ]
  },
  {
   "cell_type": "code",
   "execution_count": 15,
   "metadata": {
    "collapsed": true
   },
   "outputs": [],
   "source": [
    "model.registerFeature(\"log text length\", lambda d: np.log(len(d['reviewText'])))\n",
    "model.registerFeature(\"type-token ratio\", typeToTokenRatio)\n",
    "model.registerFeature(\"mean word length\", meanWordLength)\n",
    "model.registerFeature(\"mean sent length\", lambda d: np.mean([len(s) for s in d['reviewSentences']]))\n",
    "model.registerFeature(\"sent length stdev\", lambda d: np.std([len(s) for s in d['reviewSentences']]))\n",
    "model.registerFeature(\"punctuation ratio\", punctuationRatio)\n",
    "model.registerFeature(\"punctuation ratio\", punctuationRatio)\n",
    "for target_pos in ['CC','CD','DT','EX','IN','JJ','JJR',\n",
    "    'JJS','MD','NN','NNP','NNS','POS',\n",
    "    'PRP','PRP$','RB','RBR','RBS','RP',\n",
    "    'TO','VB','VBD','VBG','VBN','VBP',\n",
    "    'VBZ','WRB']:\n",
    "    model.registerFeature(\"POS %s ratio\"%target_pos, lambda d: posRatio(d, target_pos))"
   ]
  },
  {
   "cell_type": "code",
   "execution_count": 16,
   "metadata": {
    "collapsed": false
   },
   "outputs": [
    {
     "name": "stdout",
     "output_type": "stream",
     "text": [
      "total 33 functions trained\n"
     ]
    }
   ],
   "source": [
    "import numpy as np\n",
    "import string\n",
    "model.trainFeatures(train_data)"
   ]
  },
  {
   "cell_type": "code",
   "execution_count": 17,
   "metadata": {
    "collapsed": true
   },
   "outputs": [],
   "source": [
    "train_data_feaurized = model.makeData(train_data, standardize=True)\n",
    "dev_data_feaurized = model.makeData(dev_data, standardize=True)\n",
    "test_data_feaurized = model.makeData(test_data, standardize=True)"
   ]
  },
  {
   "cell_type": "code",
   "execution_count": 530,
   "metadata": {
    "collapsed": true
   },
   "outputs": [],
   "source": [
    "model.trainModel(train_data_feaurized, train_targets)"
   ]
  },
  {
   "cell_type": "code",
   "execution_count": 531,
   "metadata": {
    "collapsed": false
   },
   "outputs": [
    {
     "data": {
      "text/plain": [
       "{'accuracy': 0.59016666666666662,\n",
       " 'f1': 0.59037148092620362,\n",
       " 'precision': 0.58003273322422255,\n",
       " 'recall': 0.60108548168249665}"
      ]
     },
     "execution_count": 531,
     "metadata": {},
     "output_type": "execute_result"
    }
   ],
   "source": [
    "model.score(train_data_feaurized, train_targets)"
   ]
  },
  {
   "cell_type": "code",
   "execution_count": 532,
   "metadata": {
    "collapsed": false
   },
   "outputs": [
    {
     "data": {
      "text/plain": [
       "{'accuracy': 0.59099999999999997,\n",
       " 'f1': 0.58307849133537204,\n",
       " 'precision': 0.55913978494623651,\n",
       " 'recall': 0.60915867944621938}"
      ]
     },
     "execution_count": 532,
     "metadata": {},
     "output_type": "execute_result"
    }
   ],
   "source": [
    "model.score(test_data_feaurized, test_targets)"
   ]
  },
  {
   "cell_type": "code",
   "execution_count": 533,
   "metadata": {
    "collapsed": false
   },
   "outputs": [
    {
     "data": {
      "text/plain": [
       "{'accuracy': 0.60799999999999998,\n",
       " 'f1': 0.59336099585062252,\n",
       " 'precision': 0.5714285714285714,\n",
       " 'recall': 0.61704422869471409}"
      ]
     },
     "execution_count": 533,
     "metadata": {},
     "output_type": "execute_result"
    }
   ],
   "source": [
    "model.score(dev_data_feaurized, dev_targets)"
   ]
  },
  {
   "cell_type": "code",
   "execution_count": 536,
   "metadata": {
    "collapsed": false
   },
   "outputs": [
    {
     "data": {
      "text/plain": [
       "[('type-token ratio', -0.33266621331865465),\n",
       " ('mean word length', 0.16248024378860482),\n",
       " ('log text length', 0.14325177157826041),\n",
       " ('sent length stdev', -0.028205932682173151),\n",
       " ('mean sent length', 0.022583618437599724),\n",
       " ('punctuation ratio', 0.010542609681562794),\n",
       " ('POS TO ratio', -0.0028630683076006766),\n",
       " ('POS RBS ratio', -0.00011303746477102646),\n",
       " ('POS VB ratio', -0.00010012906397317523),\n",
       " ('POS CD ratio', -9.5386792831340846e-05),\n",
       " ('POS POS ratio', -3.3997472363860788e-05),\n",
       " ('POS JJS ratio', -3.0336420824605684e-05),\n",
       " ('POS VBZ ratio', -2.859747954438832e-05),\n",
       " ('POS DT ratio', -2.1241087187688864e-05),\n",
       " ('POS CC ratio', -1.9771803399333528e-05),\n",
       " ('POS NNS ratio', -1.0801057856580179e-05),\n",
       " ('POS VBD ratio', -9.7336605905273662e-06),\n",
       " ('POS RP ratio', -6.5363060858305941e-06),\n",
       " ('POS NN ratio', -6.2049037393560374e-06),\n",
       " ('POS JJ ratio', -5.1928013121076098e-06),\n",
       " ('POS MD ratio', -3.7640440982000175e-06),\n",
       " ('POS RB ratio', -2.8689114690362422e-06),\n",
       " ('POS RBR ratio', -2.8241564693743301e-06),\n",
       " ('POS PRP ratio', -2.7207413753397008e-06),\n",
       " ('POS NNP ratio', -2.5393336299188058e-06),\n",
       " ('POS VBN ratio', -2.3590234472500418e-06),\n",
       " ('POS WRB ratio', -1.7544673938368695e-06),\n",
       " ('POS PRP$ ratio', -1.6208950653816824e-06),\n",
       " ('POS VBG ratio', -3.0851487742780078e-07),\n",
       " ('POS JJR ratio', 0.0),\n",
       " ('POS EX ratio', 0.0),\n",
       " ('POS IN ratio', 0.0),\n",
       " ('POS VBP ratio', 0.0)]"
      ]
     },
     "execution_count": 536,
     "metadata": {},
     "output_type": "execute_result"
    }
   ],
   "source": [
    "sorted(model.coef(), key=lambda k: abs(k[1]), reverse=True)"
   ]
  },
  {
   "cell_type": "markdown",
   "metadata": {
    "collapsed": true
   },
   "source": [
    "### Train with NN"
   ]
  },
  {
   "cell_type": "code",
   "execution_count": 2,
   "metadata": {
    "collapsed": true
   },
   "outputs": [],
   "source": [
    "import tensorflow as tf"
   ]
  },
  {
   "cell_type": "code",
   "execution_count": 3,
   "metadata": {
    "collapsed": true
   },
   "outputs": [],
   "source": [
    "class TextModel(object):\n",
    "    \n",
    "    def __init__(self):\n",
    "        self.learning_rate_ = tf.constant(0.01, name=\"learning_rate\")\n",
    "        \n",
    "        self.hidden1_size = 300\n",
    "        self.hidden2_size = 200\n",
    "        self.input_size = 33\n",
    "        \n",
    "        self.input_w_ = tf.placeholder(tf.float32, [None, None], name=\"w\")\n",
    "        self.target_y_ = tf.placeholder(tf.float32, [None], name=\"y\")\n",
    "        \n",
    "        with tf.variable_scope(\"hidden1\"):\n",
    "            self.w1 = tf.get_variable(\"w1\", shape=[self.input_size, self.hidden1_size], dtype=tf.float32,\n",
    "                                         initializer=tf.contrib.layers.xavier_initializer())\n",
    "            self.b1 = tf.get_variable(\"b1\", dtype=tf.float32, \n",
    "                         initializer=tf.zeros_initializer([self.hidden1_size]))\n",
    "            self.h1 = tf.tanh(tf.matmul(self.input_w_, self.w1) + self.b1, name=\"h1\")\n",
    "            \n",
    "        with tf.variable_scope(\"hidden2\"):\n",
    "            self.w2 = tf.get_variable(\"w2\", shape=[self.hidden1_size, self.hidden2_size], dtype=tf.float32,\n",
    "                                         initializer=tf.contrib.layers.xavier_initializer())\n",
    "            self.b2 = tf.get_variable(\"b2\", dtype=tf.float32, \n",
    "                         initializer=tf.zeros_initializer([self.hidden2_size]))\n",
    "            self.h2 = tf.tanh(tf.matmul(self.h1, self.w2) + self.b2, name=\"h2\")\n",
    "            \n",
    "        with tf.variable_scope(\"output_layer\"):\n",
    "            self.w_out = tf.get_variable(\"W_out\", shape=[self.hidden2_size, 1], dtype=tf.float32, \n",
    "                         initializer=tf.contrib.layers.xavier_initializer())\n",
    "            self.b_out = tf.get_variable(\"b_out\", dtype=tf.float32, \n",
    "                           initializer=tf.zeros_initializer([1]))\n",
    "            self.logits_ = tf.add(tf.matmul(self.h2, self.w_out), self.b_out, name=\"logits\")\n",
    "            \n",
    "        with tf.name_scope(\"loss_function\"):\n",
    "            self.point_loss_ = tf.nn.sigmoid_cross_entropy_with_logits(tf.squeeze(self.logits_), self.target_y_)\n",
    "            self.loss_ = tf.reduce_mean(self.point_loss_)\n",
    "            \n",
    "        with tf.name_scope(\"train_ops\"):\n",
    "            optimizer = tf.train.GradientDescentOptimizer(self.learning_rate_)\n",
    "            self.train_step_ = optimizer.minimize(self.loss_)\n",
    "            \n",
    "        with tf.name_scope(\"Prediction\"):\n",
    "            self.pred_proba_ = tf.sigmoid(self.logits_, name=\"pred_proba\")"
   ]
  },
  {
   "cell_type": "code",
   "execution_count": 4,
   "metadata": {
    "collapsed": true
   },
   "outputs": [],
   "source": [
    "def batchGenerator(dataset, targets, batch_size):\n",
    "    for i in xrange(0, len(dataset), batch_size):\n",
    "        yield dataset[i:i+batch_size], targets[i:i+batch_size]"
   ]
  },
  {
   "cell_type": "code",
   "execution_count": 23,
   "metadata": {
    "collapsed": false
   },
   "outputs": [
    {
     "name": "stdout",
     "output_type": "stream",
     "text": [
      "([[-0.80326880073753038, -0.80326880073753038, -0.80326880073753038, -0.80326880073753038, -0.80326880073753038, -0.80326880073753038, -0.80326880073753038, -0.80326880073753038, -0.80326880073753038, -0.80326880073753038, -0.80326880073753038, -0.80326880073753038, 0.20136177788428367, -0.80326880073753038, -0.80326880073753038, -0.80326880073753038, -0.80326880073753038, -0.80326880073753038, -0.80326880073753038, -0.80326880073753038, -0.58823082969047591, -0.80326880073753038, -0.50072973275733268, -0.80326880073753038, -0.80326880073753038, -0.80326880073753038, -0.67576784164650661, -0.80326880073753038, -0.012109572690456264, -0.63775047019366837, -0.80326880073753038, -0.80326880073753038, -0.80326880073753038]], [0])\n",
      "([[3.0575408183417094, 3.0575408183417094, 3.0575408183417094, 3.0575408183417094, 3.0575408183417094, 3.0575408183417094, 3.0575408183417094, 3.0575408183417094, 3.0575408183417094, 3.0575408183417094, 3.0575408183417094, 3.0575408183417094, 0.66297400982324628, 3.0575408183417094, 3.0575408183417094, 3.0575408183417094, 3.0575408183417094, 3.0575408183417094, 3.0575408183417094, 3.0575408183417094, -0.62595249150714716, 3.0575408183417094, 0.033142421241837743, 3.0575408183417094, 3.0575408183417094, 3.0575408183417094, 0.25528647033616214, 3.0575408183417094, 0.60692387626126532, 0.91076742595075844, 3.0575408183417094, 3.0575408183417094, 3.0575408183417094]], [0])\n"
     ]
    }
   ],
   "source": [
    "for r in batchGenerator(train_data_feaurized[:2], train_targets[:2], 1):\n",
    "    print r"
   ]
  },
  {
   "cell_type": "code",
   "execution_count": 25,
   "metadata": {
    "collapsed": false
   },
   "outputs": [],
   "source": [
    "# run training\n",
    "trained_filename = 'tf_saved/nn_with_manual_features'\n",
    "batch_size = 5\n",
    "learning_rate = 0.1\n",
    "num_epochs = 100\n",
    "import time\n",
    "import utils; reload(utils)\n",
    "\n",
    "def runTraining(print_interval=20):\n",
    "    with tf.Graph().as_default(), tf.Session() as session:\n",
    "        tf.set_random_seed(42)\n",
    "        with tf.variable_scope(\"model\", reuse=None):\n",
    "            lm = TextModel()\n",
    "        session.run(tf.initialize_all_variables())\n",
    "        saver = tf.train.Saver()\n",
    "        \n",
    "        for epoch in xrange(1,num_epochs+1):\n",
    "            t0_epoch = time.time()\n",
    "            bi = batchGenerator(train_data_feaurized, train_targets, batch_size)\n",
    "            if epoch == 1 or epoch%print_interval == 0:\n",
    "                print \"[epoch %d] Starting epoch %d\" % (epoch, epoch)\n",
    "            cost = 0.0\n",
    "            for (w, y,) in bi:\n",
    "                feed_dict = {\n",
    "                    lm.learning_rate_: learning_rate,\n",
    "                    lm.input_w_: w,\n",
    "                    lm.target_y_: y\n",
    "                }\n",
    "                _, loss_val = session.run([lm.train_step_, lm.loss_], feed_dict)\n",
    "                cost += loss_val\n",
    "            \n",
    "            if epoch%print_interval == 0:\n",
    "                print \"%s: total loss: %.03f\" % (\"Training\", cost)\n",
    "                print \"[epoch %d] Completed in %s\" % (epoch, utils.pretty_timedelta(since=t0_epoch))\n",
    "\n",
    "                print(\"train score\")\n",
    "                bi = batchGenerator(train_data_feaurized, train_targets, len(train_data))\n",
    "                for (w,y) in bi:\n",
    "                    feed_dict = { lm.input_w_:w}\n",
    "                    pred_prob = session.run(lm.pred_proba_, feed_dict)\n",
    "                    print(score_batch(pred_prob, y))\n",
    "\n",
    "                print(\"dev score\")\n",
    "                bi = batchGenerator(dev_data_feaurized, dev_targets, len(dev_data))\n",
    "                for (w,y) in bi:\n",
    "                    feed_dict = { lm.input_w_:w}\n",
    "                    pred_prob = session.run(lm.pred_proba_, feed_dict)\n",
    "                    print(score_batch(pred_prob, y))\n",
    "                \n",
    "        print(\"train score\")\n",
    "        bi = batchGenerator(train_data_feaurized, train_targets, len(train_data))\n",
    "        for (w,y) in bi:\n",
    "            feed_dict = { lm.input_w_:w}\n",
    "            pred_prob = session.run(lm.pred_proba_, feed_dict)\n",
    "            print(score_batch(pred_prob, y))\n",
    "\n",
    "        print(\"dev score\")\n",
    "        bi = batchGenerator(dev_data_feaurized, dev_targets, len(dev_data))\n",
    "        for (w,y) in bi:\n",
    "            feed_dict = { lm.input_w_:w}\n",
    "            pred_prob = session.run(lm.pred_proba_, feed_dict)\n",
    "            print(score_batch(pred_prob, y))\n",
    "        # Save final model\n",
    "        saver.save(session, trained_filename)\n",
    "#runTraining()"
   ]
  },
  {
   "cell_type": "code",
   "execution_count": 24,
   "metadata": {
    "collapsed": false
   },
   "outputs": [
    {
     "name": "stdout",
     "output_type": "stream",
     "text": [
      "test score\n",
      "{'f1': 0.63042525208241995, 'recall': 0.76570820021299257, 'precision': 0.53576751117734722, 'accuracy': 0.57850000000000001}\n"
     ]
    }
   ],
   "source": [
    "# get test score\n",
    "trained_filename = 'tf_saved/nn_with_manual_features'\n",
    "batch_size = 5\n",
    "learning_rate = 0.1\n",
    "num_epochs = 100\n",
    "\n",
    "with tf.Graph().as_default(), tf.Session() as session:\n",
    "    with tf.variable_scope(\"model\", reuse=None):\n",
    "        lm = TextModel()\n",
    "        session.run(tf.initialize_all_variables())\n",
    "        saver = tf.train.Saver()\n",
    "    saver = tf.train.Saver()\n",
    "    saver.restore(session, trained_filename)\n",
    "    \n",
    "    print(\"test score\")\n",
    "    bi = batchGenerator(test_data_feaurized,test_targets, len(test_data))\n",
    "    for (w,y) in bi:\n",
    "        feed_dict = { lm.input_w_:w}\n",
    "        pred_prob = session.run(lm.pred_proba_, feed_dict)\n",
    "        print(score_batch(pred_prob, y))"
   ]
  },
  {
   "cell_type": "code",
   "execution_count": 27,
   "metadata": {
    "collapsed": false
   },
   "outputs": [
    {
     "name": "stdout",
     "output_type": "stream",
     "text": [
      "[epoch 1] Starting epoch 1\n",
      "[epoch 20] Starting epoch 20\n",
      "Training: total loss: 793.505\n",
      "[epoch 20] Completed in 0:00:01\n",
      "train score\n",
      "{'f1': 0.64647949434073215, 'recall': 0.74592944369063774, 'precision': 0.57042801556420231, 'accuracy': 0.59916666666666663}\n",
      "dev score\n",
      "{'f1': 0.62901744719926544, 'recall': 0.73894282632146713, 'precision': 0.54756195043964828, 'accuracy': 0.59599999999999997}\n",
      "[epoch 40] Starting epoch 40\n",
      "Training: total loss: 793.163\n",
      "[epoch 40] Completed in 0:00:01\n",
      "train score\n",
      "{'f1': 0.65917816010237451, 'recall': 0.78629579375848035, 'precision': 0.56744186046511624, 'accuracy': 0.60050000000000003}\n",
      "dev score\n",
      "{'f1': 0.6351893095768375, 'recall': 0.76914778856526433, 'precision': 0.54097116843702575, 'accuracy': 0.59050000000000002}\n",
      "train score\n",
      "{'f1': 0.65917816010237451, 'recall': 0.78629579375848035, 'precision': 0.56744186046511624, 'accuracy': 0.60050000000000003}\n",
      "dev score\n",
      "{'f1': 0.6351893095768375, 'recall': 0.76914778856526433, 'precision': 0.54097116843702575, 'accuracy': 0.59050000000000002}\n"
     ]
    }
   ],
   "source": [
    "trained_filename = 'tf_saved/nn_with_manual_features_2'\n",
    "batch_size = 5\n",
    "learning_rate = 0.1\n",
    "num_epochs = 40\n",
    "runTraining()"
   ]
  },
  {
   "cell_type": "code",
   "execution_count": 28,
   "metadata": {
    "collapsed": false
   },
   "outputs": [
    {
     "name": "stdout",
     "output_type": "stream",
     "text": [
      "test score\n",
      "{'f1': 0.64282599215002179, 'recall': 0.78487752928647503, 'precision': 0.54431314623338256, 'accuracy': 0.59050000000000002}\n"
     ]
    }
   ],
   "source": [
    "# get test score\n",
    "trained_filename = 'tf_saved/nn_with_manual_features_2'\n",
    "\n",
    "with tf.Graph().as_default(), tf.Session() as session:\n",
    "    with tf.variable_scope(\"model\", reuse=None):\n",
    "        lm = TextModel()\n",
    "        session.run(tf.initialize_all_variables())\n",
    "        saver = tf.train.Saver()\n",
    "    saver = tf.train.Saver()\n",
    "    saver.restore(session, trained_filename)\n",
    "    \n",
    "    print(\"test score\")\n",
    "    bi = batchGenerator(test_data_feaurized,test_targets, len(test_data))\n",
    "    for (w,y) in bi:\n",
    "        feed_dict = { lm.input_w_:w}\n",
    "        pred_prob = session.run(lm.pred_proba_, feed_dict)\n",
    "        print(score_batch(pred_prob, y))"
   ]
  },
  {
   "cell_type": "code",
   "execution_count": null,
   "metadata": {
    "collapsed": true
   },
   "outputs": [],
   "source": []
  }
 ],
 "metadata": {
  "kernelspec": {
   "display_name": "Python [Root]",
   "language": "python",
   "name": "Python [Root]"
  },
  "language_info": {
   "codemirror_mode": {
    "name": "ipython",
    "version": 2
   },
   "file_extension": ".py",
   "mimetype": "text/x-python",
   "name": "python",
   "nbconvert_exporter": "python",
   "pygments_lexer": "ipython2",
   "version": "2.7.12"
  }
 },
 "nbformat": 4,
 "nbformat_minor": 0
}
